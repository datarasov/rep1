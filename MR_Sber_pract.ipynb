{
  "nbformat": 4,
  "nbformat_minor": 0,
  "metadata": {
    "colab": {
      "name": "Untitled0.ipynb",
      "provenance": [],
      "mount_file_id": "16FfcUewDOqIpUR-LPA3fkadDRUxHf30Y",
      "authorship_tag": "ABX9TyNeGY1KGLpkAtsNOiDhqXmN",
      "include_colab_link": true
    },
    "kernelspec": {
      "name": "python3",
      "display_name": "Python 3"
    },
    "language_info": {
      "name": "python"
    }
  },
  "cells": [
    {
      "cell_type": "markdown",
      "metadata": {
        "id": "view-in-github",
        "colab_type": "text"
      },
      "source": [
        "<a href=\"https://colab.research.google.com/github/datarasov/rep1/blob/master/MR_Sber_pract.ipynb\" target=\"_parent\"><img src=\"https://colab.research.google.com/assets/colab-badge.svg\" alt=\"Open In Colab\"/></a>"
      ]
    },
    {
      "cell_type": "markdown",
      "metadata": {
        "id": "Gd4j_QRtyiIP"
      },
      "source": [
        "MR_Sber\n"
      ]
    },
    {
      "cell_type": "code",
      "metadata": {
        "colab": {
          "base_uri": "https://localhost:8080/"
        },
        "id": "DDfVA_LKysbJ",
        "outputId": "acf3ccb7-b353-48e9-b008-9ca0310ef156"
      },
      "source": [
        "var1=\"Первая строка\"\n",
        "print(var1)\n",
        "var2= 2+18\n",
        "print(var2)\n",
        "print('''Str... \n",
        "ing''') "
      ],
      "execution_count": null,
      "outputs": [
        {
          "output_type": "stream",
          "text": [
            "Первая строка\n",
            "20\n",
            "Str... \n",
            "ing\n"
          ],
          "name": "stdout"
        }
      ]
    },
    {
      "cell_type": "code",
      "metadata": {
        "colab": {
          "base_uri": "https://localhost:8080/"
        },
        "id": "gcFIHPIb6THM",
        "outputId": "5060edc9-ee4d-414d-e21f-333c06e63b6f"
      },
      "source": [
        "null_variable = None \n",
        "not_null_variable = 'something' \n",
        "if null_variable == None: \n",
        "    print('null_variable is None') \n",
        "else: \n",
        "    print('null_variable is not None') \n",
        "if not_null_variable == None: \n",
        "    print('not_null_variable is None') \n",
        "else: \n",
        "    print('not_null_variable is not None')"
      ],
      "execution_count": null,
      "outputs": [
        {
          "output_type": "stream",
          "text": [
            "null_variable is None\n",
            "not_null_variable is not None\n"
          ],
          "name": "stdout"
        }
      ]
    },
    {
      "cell_type": "code",
      "metadata": {
        "colab": {
          "base_uri": "https://localhost:8080/"
        },
        "id": "Ag_FtWNCFHO9",
        "outputId": "49678a1f-64c4-4c65-a055-2682b89d7a01"
      },
      "source": [
        "a = input('Введите число a: ')\n",
        "b = input('Введите число b: ')\n",
        "if int(a) < int(b):\n",
        "    print(a)\n",
        "else:\n",
        "    print(b)"
      ],
      "execution_count": null,
      "outputs": [
        {
          "output_type": "stream",
          "text": [
            "Введите число a: 2\n",
            "Введите число b: 4\n",
            "2\n"
          ],
          "name": "stdout"
        }
      ]
    },
    {
      "cell_type": "code",
      "metadata": {
        "colab": {
          "base_uri": "https://localhost:8080/"
        },
        "id": "SYCgXQo2FVYX",
        "outputId": "fab7d7ab-d245-4150-9a31-9ee3f74b8f99"
      },
      "source": [
        "a = int(input('Введите число a: '))\n",
        "b = int(input('Введите число b: '))\n",
        "c = int(input('Введите число c: '))\n",
        "if a < b and a < c:\n",
        "    print(a)\n",
        "elif b < a and b < c or a == b and a < c:\n",
        "    print(b)\n",
        "else:\n",
        "    print(c)"
      ],
      "execution_count": null,
      "outputs": [
        {
          "output_type": "stream",
          "text": [
            "Введите число a: 3\n",
            "Введите число b: 4\n",
            "Введите число c: 5\n",
            "3\n"
          ],
          "name": "stdout"
        }
      ]
    },
    {
      "cell_type": "code",
      "metadata": {
        "colab": {
          "base_uri": "https://localhost:8080/"
        },
        "id": "AmcaguMu6pzC",
        "outputId": "c345cd2f-d556-465b-b598-2e730d16c486"
      },
      "source": [
        "a = 0\n",
        "b = 0\n",
        "print(a < b)\n",
        "print(a > b)\n",
        "print(a == b)"
      ],
      "execution_count": null,
      "outputs": [
        {
          "output_type": "stream",
          "text": [
            "False\n",
            "False\n",
            "True\n"
          ],
          "name": "stdout"
        }
      ]
    },
    {
      "cell_type": "code",
      "metadata": {
        "colab": {
          "base_uri": "https://localhost:8080/"
        },
        "id": "mguOMJ1c7gbV",
        "outputId": "23f999c7-0c3a-4c0e-b5ef-adbc30a3e640"
      },
      "source": [
        "#type(True)\n",
        "#type(False)\n",
        "#type(1)\n",
        "#type(5.3)\n",
        "#type(5 + 4j)\n",
        "#type([1, 5.3, False, 4])\n",
        "#type((1, True, 3, 5+4j))\n",
        "#type(range(5))\n",
        "#type('Hello')\n",
        "#type(b'a')\n",
        "#type(bytearray([1,2,3]))\n",
        "#type(memoryview(bytearray('XYZ', 'utf-8')))\n",
        "#type({'a', 3, True})\n",
        "#type(frozenset({1, 2, 3}))\n",
        "type({'a' : 32})\n"
      ],
      "execution_count": null,
      "outputs": [
        {
          "output_type": "execute_result",
          "data": {
            "text/plain": [
              "dict"
            ]
          },
          "metadata": {
            "tags": []
          },
          "execution_count": 27
        }
      ]
    },
    {
      "cell_type": "code",
      "metadata": {
        "colab": {
          "base_uri": "https://localhost:8080/"
        },
        "id": "sApxzh13-WwE",
        "outputId": "640867b9-e84e-4b39-fcb4-4b684b1ad31c"
      },
      "source": [
        "var = 5\n",
        "var %= 10\n",
        "print(var)"
      ],
      "execution_count": null,
      "outputs": [
        {
          "output_type": "stream",
          "text": [
            "5\n"
          ],
          "name": "stdout"
        }
      ]
    },
    {
      "cell_type": "code",
      "metadata": {
        "colab": {
          "base_uri": "https://localhost:8080/"
        },
        "id": "ljpSl0KzEup_",
        "outputId": "08a7684a-d420-4257-84ca-3b9fc53b6be6"
      },
      "source": [
        "# Операции сдвига влево << и сдвига вправо >>\n",
        "x = 5 # сдвиг влево на 3 знака, умножение на 2**3 = 8\n",
        "y = x << 3 # y = x*2**3 = 40\n",
        "print('x = ', x)\n",
        "print('bin x = ', bin(x))\n",
        "print('y = x<<3 = ', y)\n",
        "print('bin y = ', bin(y), \"\\n\")\n",
        "print('bin NON y = ', bin(~y), \"\\n\")\n",
        "\n",
        "x = 25\n",
        "y = x >> 2 # y = 6\n",
        "print('x = ', x)\n",
        "print('bin x = ', bin(x))\n",
        "print('y = x>>2 = ', y)\n",
        "print('bin y = ', bin(y), \"\\n\")\n",
        "\n",
        "# Для отрицательных чисел\n",
        "x = -10\n",
        "y = x << 1 # y = -20\n",
        "print('x = ', x)\n",
        "print('bin x = ', bin(x))\n",
        "print('y = x<<1 = ', y)\n",
        "print('bin y = ', bin(y), \"\\n\")\n",
        "\n",
        "x = -100\n",
        "y = x >> 3 # y = -13\n",
        "print('x = ', x)\n",
        "print('bin x = ', bin(x))\n",
        "print('y = x>>3 = ', y)\n",
        "print('bin y = ', bin(y), \"\\n\")\n",
        "\n",
        "print('bin NON y = ', bin(~y))"
      ],
      "execution_count": null,
      "outputs": [
        {
          "output_type": "stream",
          "text": [
            "x =  5\n",
            "bin x =  0b101\n",
            "y = x<<3 =  40\n",
            "bin y =  0b101000 \n",
            "\n",
            "bin NON y =  -0b101001 \n",
            "\n",
            "x =  25\n",
            "bin x =  0b11001\n",
            "y = x>>2 =  6\n",
            "bin y =  0b110 \n",
            "\n",
            "x =  -10\n",
            "bin x =  -0b1010\n",
            "y = x<<1 =  -20\n",
            "bin y =  -0b10100 \n",
            "\n",
            "x =  -100\n",
            "bin x =  -0b1100100\n",
            "y = x>>3 =  -13\n",
            "bin y =  -0b1101 \n",
            "\n",
            "bin NON y =  0b1100\n"
          ],
          "name": "stdout"
        }
      ]
    },
    {
      "cell_type": "code",
      "metadata": {
        "colab": {
          "base_uri": "https://localhost:8080/"
        },
        "id": "oOAtfJ4OJdSp",
        "outputId": "3d4b652f-7ef4-4106-9edb-2f4c3bf48ff6"
      },
      "source": [
        "print(5 in [1, 2, 3, 4, 5])\n",
        "print([5])\n",
        "print(5 is [5])\n"
      ],
      "execution_count": null,
      "outputs": [
        {
          "output_type": "stream",
          "text": [
            "True\n",
            "[5]\n",
            "False\n"
          ],
          "name": "stdout"
        }
      ]
    },
    {
      "cell_type": "code",
      "metadata": {
        "colab": {
          "base_uri": "https://localhost:8080/"
        },
        "id": "hu8q-0hTK8qB",
        "outputId": "75a9b323-3ea6-491a-e721-7958a5819992"
      },
      "source": [
        "a=True\n",
        "b=False\n",
        "print (a or b or a)"
      ],
      "execution_count": null,
      "outputs": [
        {
          "output_type": "stream",
          "text": [
            "True\n"
          ],
          "name": "stdout"
        }
      ]
    },
    {
      "cell_type": "code",
      "metadata": {
        "colab": {
          "base_uri": "https://localhost:8080/"
        },
        "id": "ALOePfSbROai",
        "outputId": "129b59b4-b07c-4946-85b4-7dd724266688"
      },
      "source": [
        "v1=-15\n",
        "v2=-8\n",
        "print(min(v1, v2))\n",
        "\n",
        "v3 = input('Введите данные\\n')\n",
        "print(v3)\n",
        "type(v3)"
      ],
      "execution_count": null,
      "outputs": [
        {
          "output_type": "stream",
          "text": [
            "-15\n",
            "Введите данные\n",
            "-35\n",
            "-35\n"
          ],
          "name": "stdout"
        },
        {
          "output_type": "execute_result",
          "data": {
            "text/plain": [
              "str"
            ]
          },
          "metadata": {
            "tags": []
          },
          "execution_count": 54
        }
      ]
    },
    {
      "cell_type": "code",
      "metadata": {
        "colab": {
          "base_uri": "https://localhost:8080/"
        },
        "id": "XI33-IqKSB7s",
        "outputId": "742c3999-a80a-45be-e5ba-3624466b8083"
      },
      "source": [
        "v1 = input('Введите первую переменную\\n')\n",
        "v2 = input('Введите вторую переменную\\n')\n",
        "v3 = input('Введите третью переменную\\n')\n",
        "print('Minimum -', min(int(v1), int(v2), int(v3)))"
      ],
      "execution_count": null,
      "outputs": [
        {
          "output_type": "stream",
          "text": [
            "Введите первую переменную\n",
            "165\n",
            "Введите вторую переменную\n",
            "236\n",
            "Введите третью переменную\n",
            "5546\n",
            "Minimum - 165\n"
          ],
          "name": "stdout"
        }
      ]
    },
    {
      "cell_type": "code",
      "metadata": {
        "colab": {
          "base_uri": "https://localhost:8080/"
        },
        "id": "iGzpjHnfW9GG",
        "outputId": "ad2cbf1c-08d5-43da-b4c7-1731c787949e"
      },
      "source": [
        "for i in [2, 4, 7 ,10, 11, 13]:\n",
        "    print(i)\n",
        "# создаем переменную, равную 1\n",
        "var = 1\n",
        "# прописываем цикл с условием - выполнять до тех пор, пока переменная\n",
        "# меньше или равна 13\n",
        "while var <= 5:\n",
        "# выводим значение переменной\n",
        "    print(var)\n",
        "# увеличиваем переменную на 1\n",
        "    var += 1"
      ],
      "execution_count": null,
      "outputs": [
        {
          "output_type": "stream",
          "text": [
            "2\n",
            "4\n",
            "7\n",
            "10\n",
            "11\n",
            "13\n",
            "1\n",
            "2\n",
            "3\n",
            "4\n",
            "5\n"
          ],
          "name": "stdout"
        }
      ]
    },
    {
      "cell_type": "code",
      "metadata": {
        "colab": {
          "base_uri": "https://localhost:8080/"
        },
        "id": "z87tgk8iXmb6",
        "outputId": "088143b0-e733-410e-8487-6958929558b3"
      },
      "source": [
        "var = range(1, 14)\n",
        "print(var[10])\n",
        "\n",
        "for i in range(1,7):\n",
        "    print(i, end=', ')\n",
        "\n",
        "for var in 'Python':\n",
        "    if var == 'h':\n",
        "        continue\n",
        "    print(var, end=' ')\n",
        "print (\"\\n\")\n",
        "\n",
        "for var in 'PYTHON':\n",
        "    if var == 'H':\n",
        "        break\n",
        "    print(var, end=' ')\n",
        "else:\n",
        "    print('Символ не найден')"
      ],
      "execution_count": null,
      "outputs": [
        {
          "output_type": "stream",
          "text": [
            "11\n",
            "1, 2, 3, 4, 5, 6, P y t o n \n",
            "\n",
            "P Y T "
          ],
          "name": "stdout"
        }
      ]
    },
    {
      "cell_type": "code",
      "metadata": {
        "colab": {
          "base_uri": "https://localhost:8080/"
        },
        "id": "O5JWPwPqauML",
        "outputId": "29edf04b-22d4-49d1-e07d-1a6b5f92b84a"
      },
      "source": [
        "m=[2, 4, 7 ,10, 11, 13]\n",
        "print(sum(m))\n",
        "s=0\n",
        "for i in range (0, len(m)):\n",
        "    s=s+m[i]\n",
        "print(s)"
      ],
      "execution_count": null,
      "outputs": [
        {
          "output_type": "stream",
          "text": [
            "47\n",
            "47\n"
          ],
          "name": "stdout"
        }
      ]
    },
    {
      "cell_type": "code",
      "metadata": {
        "colab": {
          "base_uri": "https://localhost:8080/"
        },
        "id": "fmoUWKXjcOZb",
        "outputId": "57557771-283b-4c92-daa6-896d7b68b49d"
      },
      "source": [
        "m=[2, 0, 7 , 0, 11, 10]\n",
        "s=0\n",
        "for i in range (0, len(m)):\n",
        "    if m[i]==0:\n",
        "        s+=1\n",
        "print('Нулей', s)"
      ],
      "execution_count": null,
      "outputs": [
        {
          "output_type": "stream",
          "text": [
            "Нулей 2\n"
          ],
          "name": "stdout"
        }
      ]
    },
    {
      "cell_type": "code",
      "metadata": {
        "colab": {
          "base_uri": "https://localhost:8080/"
        },
        "id": "qao7bzhIdhh4",
        "outputId": "e58b4056-eb24-408d-e6b9-e9dbdd3391c4"
      },
      "source": [
        "n = int(input(\"Введите число ступеней от 1 до 9 : \"))\n",
        "if n > 9 or n < 1 :\n",
        "    print(\"Еrrоr\")\n",
        "else:\n",
        "    s = ''\n",
        "    for i in range(1, n+1):\n",
        "        s += str(i)\n",
        "        print(s)\n",
        "    "
      ],
      "execution_count": null,
      "outputs": [
        {
          "output_type": "stream",
          "text": [
            "Введите число ступеней от 1 до 9 : 4\n",
            "1\n",
            "12\n",
            "123\n",
            "1234\n"
          ],
          "name": "stdout"
        }
      ]
    },
    {
      "cell_type": "code",
      "metadata": {
        "colab": {
          "base_uri": "https://localhost:8080/"
        },
        "id": "fCqTPVXj_hkt",
        "outputId": "0d569862-636a-4acc-ae3c-a31916e2e5d2"
      },
      "source": [
        "n = int(input(\"Введите число ступеней от 1 до 9 : \"))\n",
        "if n > 9 or n < 1 :\n",
        "    print(\"Еrrоr\")\n",
        "else:\n",
        "    s = ''\n",
        "    for i in range(1, n+1):\n",
        "        print(s*(n-i))\n",
        "        s += str(i)\n",
        "        print(s)"
      ],
      "execution_count": null,
      "outputs": [
        {
          "output_type": "stream",
          "text": [
            "Введите число ступеней от 1 до 9 : 4\n",
            "\n",
            "1\n",
            "11\n",
            "12\n",
            "12\n",
            "123\n",
            "\n",
            "1234\n"
          ],
          "name": "stdout"
        }
      ]
    },
    {
      "cell_type": "code",
      "metadata": {
        "colab": {
          "base_uri": "https://localhost:8080/"
        },
        "id": "Dzt2QCinK9Gs",
        "outputId": "2ee9f317-0712-4ac7-fa1a-a0cf2544edc4"
      },
      "source": [
        "n = int(input('Введите число ступеней меньше 10: '))\n",
        "if n > 9:\n",
        "    print('Ошибка, количество ступеней должно быть меньше 10')\n",
        "else:\n",
        "    step = ''\n",
        "    for i in range(n):\n",
        "        step+=str(i+1)\n",
        "        print(step)"
      ],
      "execution_count": null,
      "outputs": [
        {
          "output_type": "stream",
          "text": [
            "Введите число ступеней меньше 10: 2\n",
            "1\n",
            "12\n"
          ],
          "name": "stdout"
        }
      ]
    },
    {
      "cell_type": "code",
      "metadata": {
        "colab": {
          "base_uri": "https://localhost:8080/"
        },
        "id": "m0fzSZeGLGPJ",
        "outputId": "6fd9a6bd-76ef-460a-e8db-c6f5643034c5"
      },
      "source": [
        "n = int(input('Введите число ступеней меньше 10: '))\n",
        "if n > 9:\n",
        "    print('Ошибка, количество ступеней должно быть меньше 10')\n",
        "else:\n",
        "    for i in range(1,n+1):\n",
        "        step = ' '*(n-i)\n",
        "        for j in range(1,i+1):\n",
        "            step+=str(j)\n",
        "        for j in range(i-1,0,-1):\n",
        "            step+=str(j)\n",
        "        print(step)"
      ],
      "execution_count": null,
      "outputs": [
        {
          "output_type": "stream",
          "text": [
            "Введите число ступеней меньше 10: 4\n",
            "   1\n",
            "  121\n",
            " 12321\n",
            "1234321\n"
          ],
          "name": "stdout"
        }
      ]
    },
    {
      "cell_type": "code",
      "metadata": {
        "colab": {
          "base_uri": "https://localhost:8080/"
        },
        "id": "rtylNb_PLX77",
        "outputId": "66505367-dcd6-4dde-f698-caf0824f6698"
      },
      "source": [
        "n = int(input('Введите число ступеней меньше 10: '))\n",
        "if n > 9:\n",
        "    print('Ошибка, количество ступеней должно быть меньше 10')\n",
        "else:\n",
        "    for i in range(1,n+1):\n",
        "        step=' '*(n-i)\n",
        "        for j in range(1,i+1):\n",
        "            step+= str(j)\n",
        "        for j in range(i-1,0,-1):\n",
        "            step+= str(j)\n",
        "        print(step)\n",
        "    for i in range(n-1,0,-1):\n",
        "        step=' '*(n-i)\n",
        "        for j in range(1,i+1):\n",
        "            step += str(j)\n",
        "        for j in range(i-1,0,-1):\n",
        "            step += str(j)\n",
        "        print(step)"
      ],
      "execution_count": null,
      "outputs": [
        {
          "output_type": "stream",
          "text": [
            "Введите число ступеней меньше 10: 5\n",
            "    1\n",
            "   121\n",
            "  12321\n",
            " 1234321\n",
            "123454321\n",
            " 1234321\n",
            "  12321\n",
            "   121\n",
            "    1\n"
          ],
          "name": "stdout"
        }
      ]
    },
    {
      "cell_type": "code",
      "metadata": {
        "colab": {
          "base_uri": "https://localhost:8080/"
        },
        "id": "NVFVWGupM6BR",
        "outputId": "142342e1-1758-416e-a3ad-43b068aa0a3a"
      },
      "source": [
        "n = int(input('Введите число ступеней меньше 10: '))\n",
        "if n > 9:\n",
        "    print('Ошибка, количество ступеней должно быть меньше 10')\n",
        "else:\n",
        "    for i in range(1,n+1):\n",
        "        step=' '*(n-i)\n",
        "        for j in range(1,i+1):\n",
        "            step+=str(j)\n",
        "        print(step)\n",
        "    for i in range(n,0,-1):\n",
        "        step=' '*(n-i)\n",
        "        for j in range(1,i+1):\n",
        "            step+= ' '\n",
        "        for j in range(i,0,-1):\n",
        "            step+=str(j)\n",
        "        print(step)"
      ],
      "execution_count": null,
      "outputs": [
        {
          "output_type": "stream",
          "text": [
            "Введите число ступеней меньше 10: 4\n",
            "   1\n",
            "  12\n",
            " 123\n",
            "1234\n",
            "    4321\n",
            "    321\n",
            "    21\n",
            "    1\n"
          ],
          "name": "stdout"
        }
      ]
    },
    {
      "cell_type": "code",
      "metadata": {
        "colab": {
          "base_uri": "https://localhost:8080/"
        },
        "id": "Hl8_XoNbNbJ4",
        "outputId": "8864a76e-9e58-4ff6-9c53-ea504e44b720"
      },
      "source": [
        "n = int(input('Введите число ступеней меньше 10: '))\n",
        "if n > 9:\n",
        "    print('Ошибка, количество ступеней должно быть меньше 10')\n",
        "else:\n",
        "    for i in range(1,n+1):\n",
        "        step=' '*(n)  \n",
        "        for j in range(i,0, -1):\n",
        "            step+=str(j)\n",
        "        print(step)\n",
        "    for i in range(1,n+1):\n",
        "        step=' '*(i-1)\n",
        "        for j in range(1,n+1-i+1):\n",
        "            step+=str(j)\n",
        "        print(step)"
      ],
      "execution_count": null,
      "outputs": [
        {
          "output_type": "stream",
          "text": [
            "Введите число ступеней меньше 10: 5\n",
            "     1\n",
            "     21\n",
            "     321\n",
            "     4321\n",
            "     54321\n",
            "12345\n",
            " 1234\n",
            "  123\n",
            "   12\n",
            "    1\n"
          ],
          "name": "stdout"
        }
      ]
    },
    {
      "cell_type": "code",
      "metadata": {
        "colab": {
          "base_uri": "https://localhost:8080/"
        },
        "id": "gQxbfYLiNg-r",
        "outputId": "8292a349-4376-4dcc-bf76-a3b90ae7ed71"
      },
      "source": [
        "n = int(input('Введите число ступеней меньше 10: '))\n",
        "if n > 9:\n",
        "    print('Ошибка, количество ступеней должно быть меньше 10')\n",
        "else:\n",
        "    for i in range(1,n+1):\n",
        "        step=' '*(n-i)  \n",
        "        for j in range(1,i+1):\n",
        "            step+=str(j)\n",
        "        print(step)\n",
        "    for i in range(1,n):\n",
        "        step=' '*(i)\n",
        "        for j in range(1,n+1-i):\n",
        "            step+=str(j)\n",
        "        print(step)"
      ],
      "execution_count": null,
      "outputs": [
        {
          "output_type": "stream",
          "text": [
            "Введите число ступеней меньше 10: 3\n",
            "  1\n",
            " 12\n",
            "123\n",
            " 12\n",
            "  1\n"
          ],
          "name": "stdout"
        }
      ]
    },
    {
      "cell_type": "code",
      "metadata": {
        "colab": {
          "base_uri": "https://localhost:8080/"
        },
        "id": "pnlP1lfqNmVp",
        "outputId": "8eaf6395-a846-4946-dd98-f583f24a63e2"
      },
      "source": [
        "n = int(input('Введите число ступеней меньше 10: '))\n",
        "if n > 9:\n",
        "    print('Ошибка, количество ступеней должно быть меньше 10')\n",
        "else:\n",
        "    for i in range(1,n+1):\n",
        "        step=' '*(n)\n",
        "        for j in range(i,0,-1):\n",
        "            step+=str(j)\n",
        "        print(step)\n",
        "    for i in range(n-1,0,-1):\n",
        "        step=' '*(n)\n",
        "        for j in range(i,0,-1):\n",
        "            step+=str(j)\n",
        "        print(step)"
      ],
      "execution_count": null,
      "outputs": [
        {
          "output_type": "stream",
          "text": [
            "Введите число ступеней меньше 10: 7\n",
            "       1\n",
            "       21\n",
            "       321\n",
            "       4321\n",
            "       54321\n",
            "       654321\n",
            "       7654321\n",
            "       654321\n",
            "       54321\n",
            "       4321\n",
            "       321\n",
            "       21\n",
            "       1\n"
          ],
          "name": "stdout"
        }
      ]
    },
    {
      "cell_type": "code",
      "metadata": {
        "colab": {
          "base_uri": "https://localhost:8080/"
        },
        "id": "AHDCIPIqr3hU",
        "outputId": "863ec812-ebf5-4617-99e0-9b97b58a33af"
      },
      "source": [
        "zero =  [\"  ***  \", \" *   * \", \"*     *\", \"*     *\", \"*     *\",\" *   * \",\"  ***  \"]\n",
        "one =   [\" * \", \"** \", \" * \", \" * \", \" * \", \" * \", \"***\"]\n",
        "two =   [\" *** \", \"*   *\", \"*  * \", \"  *  \", \" *   \", \"*    \", \"*****\"]\n",
        "three = [\" *** \", \"*   *\", \"    *\", \"  ** \", \"    *\", \"*   *\", \" *** \"]\n",
        "four =  [\"   *  \", \"  **  \", \" * *  \", \"*  *  \", \"******\", \"   *  \", \"   *  \"]\n",
        "five =  [\"*****\", \"*    \", \"*    \", \" *** \", \"    *\", \"    *\", \"**** \"]\n",
        "six =   [\"*    \", \"*    \", \"*    \", \"**** \", \"*   *\", \"*   *\", \"**** \"]\n",
        "seven = [\"*****\", \"    *\", \"   * \", \"  *  \", \" *   \", \"*    \", \"*    \"]\n",
        "eight = [\" *** \", \"*   *\", \"*   *\", \" *** \", \"*   *\", \"*   *\", \" *** \"]\n",
        "nine =  [\" ****\", \"*   *\", \"*   *\", \" ****\", \"    *\", \"    *\", \"    *\"]\n",
        "\n",
        "digits = [zero, one, two, three, four, five, six, seven, eight, nine]\n",
        "number = '0123456789'\n",
        "for row in range(7):\n",
        "    line = \"\"\n",
        "    for digit in number:\n",
        "        line += digits[int(digit)][row] + \" \"\n",
        "    print(line)"
      ],
      "execution_count": null,
      "outputs": [
        {
          "output_type": "stream",
          "text": [
            "  ***    *   ***   ***     *   ***** *     *****  ***   **** \n",
            " *   *  **  *   * *   *   **   *     *         * *   * *   * \n",
            "*     *  *  *  *      *  * *   *     *        *  *   * *   * \n",
            "*     *  *    *     **  *  *    ***  ****    *    ***   **** \n",
            "*     *  *   *        * ******     * *   *  *    *   *     * \n",
            " *   *   *  *     *   *    *       * *   * *     *   *     * \n",
            "  ***   *** *****  ***     *   ****  ****  *      ***      * \n"
          ],
          "name": "stdout"
        }
      ]
    },
    {
      "cell_type": "code",
      "metadata": {
        "colab": {
          "base_uri": "https://localhost:8080/",
          "height": 35
        },
        "id": "YdsWqbYMzwKh",
        "outputId": "1df70df1-1a5e-4dd3-b153-ce06650f1fdd"
      },
      "source": [
        "s = 'Python'\n",
        "s.startswith('Py') # True\n",
        "s.endswith('an') # False\n",
        "s.join(['a','b','c'])"
      ],
      "execution_count": null,
      "outputs": [
        {
          "output_type": "execute_result",
          "data": {
            "application/vnd.google.colaboratory.intrinsic+json": {
              "type": "string"
            },
            "text/plain": [
              "'aPythonbPythonc'"
            ]
          },
          "metadata": {
            "tags": []
          },
          "execution_count": 4
        }
      ]
    },
    {
      "cell_type": "code",
      "metadata": {
        "colab": {
          "base_uri": "https://localhost:8080/"
        },
        "id": "GfJN1D410gDB",
        "outputId": "2853a990-d200-41c4-ee8c-eb28e70c9b6c"
      },
      "source": [
        "s='Abraсadabra'\n",
        "print(s[2])\n",
        "print(s[len(s)-2]) #Вывести предпоследний символ этой строки\n",
        "print(s[0:5])\n",
        "print(s[:len(s)-2]) #Вывести строку, кроме последних двух символов.\n",
        "print(s[::2]) #Вывести все символы с четными индексами (считайте, что 0 - четный индекс).\n",
        "print(s[1::2]) #Вывести все символы с нечетными индексами.\n",
        "print(s[::-1]) #Вывести все символы в обратном порядке.\n",
        "print(s[::-2]) #Вывести все символы строки через один в обратном порядке, начиная с последнего\n",
        "print(len(s))"
      ],
      "execution_count": null,
      "outputs": [
        {
          "output_type": "stream",
          "text": [
            "r\n",
            "r\n",
            "Abraс\n",
            "Abraсadab\n",
            "Arсdba\n",
            "baaar\n",
            "arbadaсarbA\n",
            "abdсrA\n",
            "11\n"
          ],
          "name": "stdout"
        }
      ]
    },
    {
      "cell_type": "code",
      "metadata": {
        "colab": {
          "base_uri": "https://localhost:8080/"
        },
        "id": "ya75kr3p4YWs",
        "outputId": "1191e64d-0138-4533-b91f-ff40b3d693c7"
      },
      "source": [
        "s='иванов иван иванович'\n",
        "print(s)\n",
        "s='иванов иван иванович'\n",
        "spl=s.split(' ')\n",
        "print(spl)\n",
        "spl[0] = spl[0][0].upper() + spl[0][1:]\n",
        "spl[1] = spl[1][0].upper() + spl[1][1:]\n",
        "spl[2] = spl[2][0].upper() + spl[2][1:]\n",
        "print(spl)\n",
        "fin=spl[0]+' '+spl[1]+' '+spl[2]\n",
        "print(fin)"
      ],
      "execution_count": null,
      "outputs": [
        {
          "output_type": "stream",
          "text": [
            "иванов иван иванович\n",
            "['иванов', 'иван', 'иванович']\n",
            "['Иванов', 'Иван', 'Иванович']\n",
            "Иванов Иван Иванович\n"
          ],
          "name": "stdout"
        }
      ]
    },
    {
      "cell_type": "code",
      "metadata": {
        "colab": {
          "base_uri": "https://localhost:8080/"
        },
        "id": "22I2Vnc3N2Up",
        "outputId": "900e04a9-8abe-4c4f-dc50-e609a1c61735"
      },
      "source": [
        "string = input('Введите строку: ')\n",
        "var = string.split(' ')\n",
        "final_string = ''\n",
        "for i in var:\n",
        "    if i != '' and i != var[len(var)-1]:\n",
        "        final_string+=i.replace(i[0],i[0].upper(),1) + ' '\n",
        "    elif i != '' and i == var[len(var)-1]:\n",
        "         final_string+=i.replace(i[0],i[0].upper(),1)\n",
        "    else:\n",
        "        final_string+=' '\n",
        "print(final_string)"
      ],
      "execution_count": null,
      "outputs": [
        {
          "output_type": "stream",
          "text": [
            "Введите строку: dfibyunjy l;hh;l bdfyjdbx\n",
            "Dfibyunjy L;hh;l Bdfyjdbx\n"
          ],
          "name": "stdout"
        }
      ]
    },
    {
      "cell_type": "code",
      "metadata": {
        "colab": {
          "base_uri": "https://localhost:8080/"
        },
        "id": "KWhWrUHe-Urr",
        "outputId": "6e44bae4-641e-402b-9a3c-7d2bbe8f818c"
      },
      "source": [
        "pas=input('Введите пароль не менее 12 символов')\n",
        "if len(pas)<12: print ('Пароль короткий')\n",
        "else: \n",
        "    if pas.isalnum(): print('OK')"
      ],
      "execution_count": null,
      "outputs": [
        {
          "output_type": "stream",
          "text": [
            "Введите пароль не менее 12 символов2365985463215\n",
            "OK\n"
          ],
          "name": "stdout"
        }
      ]
    },
    {
      "cell_type": "code",
      "metadata": {
        "colab": {
          "base_uri": "https://localhost:8080/"
        },
        "id": "-DIX8sN0O-Yr",
        "outputId": "098bd0b7-244b-49f1-a1c4-ca672dd0e418"
      },
      "source": [
        "password = input('Введите пароль: ')\n",
        "digits = '1234567890'\n",
        "digits_count = 0\n",
        "leters = 'ABCDEFGHIJKLMNOPQRSTUVWXYZ'\n",
        "leters_count = 0\n",
        "leters_2 = 'abcdefghijklmnopqrstuvwxyz'\n",
        "leters_count_2 = 0\n",
        "symbols = '!@#$%^&*()-+'\n",
        "symbols_count = 0\n",
        "for i in password:\n",
        "    if i in digits:\n",
        "        digits_count+=1\n",
        "    elif i in leters:\n",
        "        leters_count+=1\n",
        "    elif i in leters_2:\n",
        "        leters_count_2+=1\n",
        "    elif i in symbols:\n",
        "        symbols_count+=1\n",
        "    else:\n",
        "        print('Ошибка. Запрещенный спецсимвол:'+i)\n",
        "s = ''\n",
        "if digits_count + leters_count + leters_count_2 + symbols_count < 12:\n",
        "    s+= \"увеличить число символов на\"+str(12-digits_count + leters_count + leters_count_2 + symbols_count)\n",
        "if digits_count < 1:\n",
        "    if s[-1:]!='':\n",
        "        s+=', '\n",
        "    s+= \"добавить 1 цифру\"\n",
        "if leters_count < 1:\n",
        "    print(s[-1:])\n",
        "    if s[-1:]!='':\n",
        "        s+=', '\n",
        "    s+= \"добавить 1 заглавную букву\"\n",
        "if leters_count_2 < 1:\n",
        "    if s[-1:]!='':\n",
        "        s+=', '\n",
        "    s+= \"добавить 1 строчную букву\"\n",
        "if symbols_count < 1:\n",
        "    if s[-1:]!='':\n",
        "        s+=', '\n",
        "    s+= \"добавить 1 спецсимвол\"\n",
        "if s == '':\n",
        "    print('Сильный пароль')\n",
        "else:\n",
        "    print('Слабый пароль. Рекомендации:'+s)"
      ],
      "execution_count": null,
      "outputs": [
        {
          "output_type": "stream",
          "text": [
            "Введите пароль: Tyyfbb46535@@&jbvg njg*&9mn;dflkid\n",
            "Ошибка. Запрещенный спецсимвол:  \n",
            "Ошибка. Запрещенный спецсимвол: ;\n",
            "Сильный пароль\n"
          ],
          "name": "stdout"
        }
      ]
    },
    {
      "cell_type": "code",
      "metadata": {
        "colab": {
          "base_uri": "https://localhost:8080/"
        },
        "id": "0CjpIuyIBOCR",
        "outputId": "05ed0c44-8daa-4968-d77d-09b809b83537"
      },
      "source": [
        "a = ['P', 'y', 't', 'h', 'o', 'n']\n",
        "b = [i * 3 for i in a]\n",
        "print(a,b)\n",
        "len(b)\n",
        "print(b[::2])\n",
        "c=(b[::2])\n",
        "print(c)"
      ],
      "execution_count": null,
      "outputs": [
        {
          "output_type": "stream",
          "text": [
            "['P', 'y', 't', 'h', 'o', 'n'] ['PPP', 'yyy', 'ttt', 'hhh', 'ooo', 'nnn']\n",
            "['PPP', 'ttt', 'ooo']\n",
            "['PPP', 'ttt', 'ooo']\n"
          ],
          "name": "stdout"
        }
      ]
    },
    {
      "cell_type": "code",
      "metadata": {
        "colab": {
          "base_uri": "https://localhost:8080/",
          "height": 214
        },
        "id": "MU7pOKpqoPuU",
        "outputId": "0937074b-30a6-4b44-f568-157cd3459490"
      },
      "source": [
        "def email_gen(list_of_names):\n",
        "    emails = []\n",
        "    for i in list_of_names:\n",
        "        letter = 1\n",
        "        while i[1] + '.' + i[0][0:letter] + '@company.io' in emails:\n",
        "            letter+=1\n",
        "        emails.append(i[1] + '.' + i[0][0:letter] + '@company.io')\n",
        "    return emails\n",
        "f=open('C:\\task_file.txt', 'r')\n",
        "f.read()"
      ],
      "execution_count": null,
      "outputs": [
        {
          "output_type": "error",
          "ename": "FileNotFoundError",
          "evalue": "ignored",
          "traceback": [
            "\u001b[0;31m---------------------------------------------------------------------------\u001b[0m",
            "\u001b[0;31mFileNotFoundError\u001b[0m                         Traceback (most recent call last)",
            "\u001b[0;32m<ipython-input-43-cb99d0b9e1b5>\u001b[0m in \u001b[0;36m<module>\u001b[0;34m()\u001b[0m\n\u001b[1;32m      7\u001b[0m         \u001b[0memails\u001b[0m\u001b[0;34m.\u001b[0m\u001b[0mappend\u001b[0m\u001b[0;34m(\u001b[0m\u001b[0mi\u001b[0m\u001b[0;34m[\u001b[0m\u001b[0;36m1\u001b[0m\u001b[0;34m]\u001b[0m \u001b[0;34m+\u001b[0m \u001b[0;34m'.'\u001b[0m \u001b[0;34m+\u001b[0m \u001b[0mi\u001b[0m\u001b[0;34m[\u001b[0m\u001b[0;36m0\u001b[0m\u001b[0;34m]\u001b[0m\u001b[0;34m[\u001b[0m\u001b[0;36m0\u001b[0m\u001b[0;34m:\u001b[0m\u001b[0mletter\u001b[0m\u001b[0;34m]\u001b[0m \u001b[0;34m+\u001b[0m \u001b[0;34m'@company.io'\u001b[0m\u001b[0;34m)\u001b[0m\u001b[0;34m\u001b[0m\u001b[0;34m\u001b[0m\u001b[0m\n\u001b[1;32m      8\u001b[0m     \u001b[0;32mreturn\u001b[0m \u001b[0memails\u001b[0m\u001b[0;34m\u001b[0m\u001b[0;34m\u001b[0m\u001b[0m\n\u001b[0;32m----> 9\u001b[0;31m \u001b[0mf\u001b[0m\u001b[0;34m=\u001b[0m\u001b[0mopen\u001b[0m\u001b[0;34m(\u001b[0m\u001b[0;34m'C:\\task_file'\u001b[0m\u001b[0;34m,\u001b[0m \u001b[0;34m'r'\u001b[0m\u001b[0;34m)\u001b[0m\u001b[0;34m\u001b[0m\u001b[0;34m\u001b[0m\u001b[0m\n\u001b[0m\u001b[1;32m     10\u001b[0m \u001b[0mf\u001b[0m\u001b[0;34m.\u001b[0m\u001b[0mread\u001b[0m\u001b[0;34m(\u001b[0m\u001b[0;34m)\u001b[0m\u001b[0;34m\u001b[0m\u001b[0;34m\u001b[0m\u001b[0m\n",
            "\u001b[0;31mFileNotFoundError\u001b[0m: [Errno 2] No such file or directory: 'C:\\task_file'"
          ]
        }
      ]
    },
    {
      "cell_type": "code",
      "metadata": {
        "colab": {
          "base_uri": "https://localhost:8080/"
        },
        "id": "Apisq699FleU",
        "outputId": "20314c07-1bf8-4da5-dcb5-eb15826920ff"
      },
      "source": [
        "a = int(input('Введите число a: '))\n",
        "b = int(input('Введите число b: '))\n",
        "c = int(input('Введите число c: '))\n",
        "set_1 = {a,b,c}\n",
        "if len(set_1) == 1:\n",
        "    print(3)\n",
        "elif len(set_1) == 2:\n",
        "    print(2)\n",
        "else:\n",
        "    print(0)"
      ],
      "execution_count": null,
      "outputs": [
        {
          "output_type": "stream",
          "text": [
            "Введите число a: 2\n",
            "Введите число b: 3\n",
            "Введите число c: 5\n",
            "0\n"
          ],
          "name": "stdout"
        }
      ]
    },
    {
      "cell_type": "code",
      "metadata": {
        "colab": {
          "base_uri": "https://localhost:8080/"
        },
        "id": "u0NF7XCCGgFv",
        "outputId": "c281742f-72cc-4d64-f226-25e70a28469c"
      },
      "source": [
        "summ = 0\n",
        "for i in range(10):\n",
        "    summ+=int(input('Введите число №'+str(i+1)+' '))\n",
        "print(summ)"
      ],
      "execution_count": null,
      "outputs": [
        {
          "output_type": "stream",
          "text": [
            "Введите число №1 6\n",
            "Введите число №2 8\n",
            "Введите число №3 2\n",
            "Введите число №4 7\n",
            "Введите число №5 8\n",
            "Введите число №6 1\n",
            "Введите число №7 12\n",
            "Введите число №8 4\n",
            "Введите число №9 6\n",
            "Введите число №10 45\n",
            "99\n"
          ],
          "name": "stdout"
        }
      ]
    },
    {
      "cell_type": "code",
      "metadata": {
        "colab": {
          "base_uri": "https://localhost:8080/"
        },
        "id": "ZbM2dNX-HcJu",
        "outputId": "76bcb9f5-9a91-4f3b-bf7a-ba75d69b042c"
      },
      "source": [
        "n = int(input('Введите кол-во чисел: '))\n",
        "summ = 0\n",
        "for i in range(n):\n",
        "    a = int(input('Введите число №'+str(i+1)+' '))\n",
        "    if a == 0:\n",
        "        summ+=1\n",
        "print(summ)"
      ],
      "execution_count": null,
      "outputs": [
        {
          "output_type": "stream",
          "text": [
            "Введите кол-во чисел: 2\n",
            "Введите число №1 0\n",
            "Введите число №2 0\n",
            "2\n"
          ],
          "name": "stdout"
        }
      ]
    },
    {
      "cell_type": "code",
      "metadata": {
        "colab": {
          "base_uri": "https://localhost:8080/"
        },
        "id": "Jg0o1blGIURX",
        "outputId": "04c3c294-9621-4748-d34e-0c61551706c6"
      },
      "source": [
        "n = int(input('Введите длину списка: '))\n",
        "a = []\n",
        "for i in range(n):\n",
        "    a.append(int(input('Введите число №'+str(i+1)+': ')))\n",
        "b = []\n",
        "for i in range(len(a)):\n",
        "    if i%2==0:\n",
        "        b.append(a[i])\n",
        "print(b)"
      ],
      "execution_count": null,
      "outputs": [
        {
          "output_type": "stream",
          "text": [
            "Введите длину списка: 4\n",
            "Введите число №1: 1\n",
            "Введите число №2: 2\n",
            "Введите число №3: 4\n",
            "Введите число №4: 5\n",
            "[1, 4]\n"
          ],
          "name": "stdout"
        }
      ]
    },
    {
      "cell_type": "code",
      "metadata": {
        "id": "alGbUtKUp8ff"
      },
      "source": [
        ""
      ],
      "execution_count": null,
      "outputs": []
    },
    {
      "cell_type": "code",
      "metadata": {
        "colab": {
          "base_uri": "https://localhost:8080/"
        },
        "id": "UPmExJGsTti1",
        "outputId": "c12f6e71-b4a2-4883-f385-e9e1ed4f29aa"
      },
      "source": [
        "n = int(input('Введите длину списка: '))\n",
        "a = []\n",
        "for i in range(n):\n",
        "    a.append(int(input('Введите число №'+str(i+1)+': ')))\n",
        "b = []\n",
        "for i in range(len(a)):\n",
        "    if i>0 and a[i]>a[i-1]:\n",
        "        b.append(a[i])\n",
        "print(b)"
      ],
      "execution_count": null,
      "outputs": [
        {
          "output_type": "stream",
          "text": [
            "Введите длину списка: 3\n",
            "Введите число №1: 3\n",
            "Введите число №2: 5\n",
            "Введите число №3: 7\n",
            "[5, 7]\n"
          ],
          "name": "stdout"
        }
      ]
    },
    {
      "cell_type": "code",
      "metadata": {
        "colab": {
          "base_uri": "https://localhost:8080/"
        },
        "id": "PwifYXR9T7xO",
        "outputId": "40a02344-4d38-404a-ca0e-785359a6d42f"
      },
      "source": [
        "n = int(input('Введите длину списка: '))\n",
        "a = []\n",
        "for i in range(n):\n",
        "    a.append(int(input('Введите число №'+str(i+1)+': ')))\n",
        "if a.index(max(a)) < a.index(min(a)):\n",
        "    a[a.index(min(a))], a[a.index(max(a))] = a[a.index(max(a))], a[a.index(min(a))]\n",
        "else:\n",
        "    a[a.index(max(a))], a[a.index(min(a))] = a[a.index(min(a))], a[a.index(max(a))]\n",
        "print(a)"
      ],
      "execution_count": null,
      "outputs": [
        {
          "output_type": "stream",
          "text": [
            "Введите длину списка: 4\n",
            "Введите число №1: 2\n",
            "Введите число №2: 7\n",
            "Введите число №3: 3\n",
            "Введите число №4: 6\n",
            "[7, 2, 3, 6]\n"
          ],
          "name": "stdout"
        }
      ]
    },
    {
      "cell_type": "code",
      "metadata": {
        "colab": {
          "base_uri": "https://localhost:8080/"
        },
        "id": "dZheOemtULhS",
        "outputId": "79b96962-e0a7-40d5-b432-6f0f189d39ca"
      },
      "source": [
        "n = int(input('Введите длину словаря: '))\n",
        "d = dict()\n",
        "for i in range(n):\n",
        "    d.update({input('Введите ключ: '):input('Введите значение: ')})\n",
        "key = input('Введите ключ для поиска: ')\n",
        "print(d.get(key))"
      ],
      "execution_count": null,
      "outputs": [
        {
          "output_type": "stream",
          "text": [
            "Введите длину словаря: 4\n",
            "Введите ключ: ff\n",
            "Введите значение: 1\n",
            "Введите ключ: bb\n",
            "Введите значение: 5\n",
            "Введите ключ: cc\n",
            "Введите значение: 8\n",
            "Введите ключ: gg\n",
            "Введите значение: 3\n",
            "Введите ключ для поиска: ff\n",
            "1\n"
          ],
          "name": "stdout"
        }
      ]
    },
    {
      "cell_type": "code",
      "metadata": {
        "colab": {
          "base_uri": "https://localhost:8080/"
        },
        "id": "-eVJx3mrUe7r",
        "outputId": "43001490-e385-427e-dee0-dc89bffcba9f"
      },
      "source": [
        "n = int(input('Введите длину словаря: '))\n",
        "d = dict()\n",
        "for i in range(n):\n",
        "    d.update({input('Введите ключ: '):input('Введите значение: ')})\n",
        "value = input('Введите значение для поиска: ')\n",
        "d = {v: k for k,v in d.items()}\n",
        "print(d.get(value))"
      ],
      "execution_count": null,
      "outputs": [
        {
          "output_type": "stream",
          "text": [
            "Введите длину словаря: 1\n",
            "Введите ключ: 2\n",
            "Введите значение: 3\n",
            "Введите значение для поиска: 2\n",
            "None\n"
          ],
          "name": "stdout"
        }
      ]
    },
    {
      "cell_type": "code",
      "metadata": {
        "colab": {
          "base_uri": "https://localhost:8080/"
        },
        "id": "vOSrXG-WW1u5",
        "outputId": "429760f2-5802-4ac6-f400-c1e73b4e8569"
      },
      "source": [
        "n = int(input('Введите длину списка: '))\n",
        "lst = []\n",
        "for i in range(n):\n",
        "    lst.append(input('Введите элемент № '+str(i+1)+': '))\n",
        "dic = {}\n",
        "for i in lst:\n",
        "    if i not in dic.keys():\n",
        "        dic.update({i:1})\n",
        "    else:\n",
        "        dic.update({i:dic.get(i)+1})\n",
        "s = ''\n",
        "for i in dic:\n",
        "    s+=str(dic.get(i)) + ' '\n",
        "print(s)234"
      ],
      "execution_count": null,
      "outputs": [
        {
          "output_type": "stream",
          "text": [
            "Введите длину списка: 4\n",
            "Введите элемент № 1: 1\n",
            "Введите элемент № 2: \n",
            "Введите элемент № 3: \n",
            "Введите элемент № 4: \n",
            "1 3 \n"
          ],
          "name": "stdout"
        }
      ]
    },
    {
      "cell_type": "code",
      "metadata": {
        "colab": {
          "base_uri": "https://localhost:8080/"
        },
        "id": "52ZdDhUyXbxt",
        "outputId": "695d25be-ed16-4c35-c594-b086da68d797"
      },
      "source": [
        "n = int(input('Введите кол-во чисел: '))\n",
        "s = set()\n",
        "for i in range(n):\n",
        "    s.update({input('Введите число № ' + str(i+1) + ': ')})\n",
        "print(len(s))"
      ],
      "execution_count": null,
      "outputs": [
        {
          "output_type": "stream",
          "text": [
            "Введите кол-во чисел: 4\n",
            "Введите число № 1: 2\n",
            "Введите число № 2: 4\n",
            "Введите число № 3: 7\n",
            "Введите число № 4: 9\n",
            "4\n"
          ],
          "name": "stdout"
        }
      ]
    },
    {
      "cell_type": "code",
      "metadata": {
        "colab": {
          "base_uri": "https://localhost:8080/"
        },
        "id": "Xi4-HK29Xood",
        "outputId": "0c5da8a5-984d-453d-a715-32d7d82fa768"
      },
      "source": [
        "n_1 = int(input('Введите кол-во чисел первого списка: '))\n",
        "n_2 = int(input('Введите кол-во чисел второго списка: '))\n",
        "s_1 = set()\n",
        "s_2 = set()\n",
        "for i in range(n_1):\n",
        "    s_1.update({input('Введите число № ' + str(i+1) + ' для первого списка: ')})\n",
        "for i in range(n_2):\n",
        "    s_2.update({input('Введите число № ' + str(i+1) + ' для второго списка: ')})\n",
        "print(len(s_1.intersection(s_2)))"
      ],
      "execution_count": null,
      "outputs": [
        {
          "output_type": "stream",
          "text": [
            "Введите кол-во чисел первого списка: 3\n",
            "Введите кол-во чисел второго списка: 2\n",
            "Введите число № 1 для первого списка: 1\n",
            "Введите число № 2 для первого списка: 4\n",
            "Введите число № 3 для первого списка: 56\n",
            "Введите число № 1 для второго списка: 5\n",
            "Введите число № 2 для второго списка: 678\n",
            "0\n"
          ],
          "name": "stdout"
        }
      ]
    },
    {
      "cell_type": "code",
      "metadata": {
        "colab": {
          "base_uri": "https://localhost:8080/"
        },
        "id": "QKxPNNvVX0Od",
        "outputId": "b412d154-42ef-453e-cd00-3c060e14ee66"
      },
      "source": [
        "n_1 = int(input('Введите кол-во чисел первого множества: '))\n",
        "n_2 = int(input('Введите кол-во чисел второго множества: '))\n",
        "s_1 = set()\n",
        "s_2 = set()\n",
        "for i in range(n_1):\n",
        "    s_1.update({input('Введите число № ' + str(i+1) + ' для первого множества: ')})\n",
        "for i in range(n_2):\n",
        "    s_2.update({input('Введите число № ' + str(i+1) + ' для второго множества: ')})\n",
        "if s_1 != s_2:\n",
        "    print(s_1.issubset(s_2))\n",
        "else:\n",
        "    print(False)"
      ],
      "execution_count": null,
      "outputs": [
        {
          "output_type": "stream",
          "text": [
            "Введите кол-во чисел первого множества: 3\n",
            "Введите кол-во чисел второго множества: 5\n",
            "Введите число № 1 для первого множества: 1\n",
            "Введите число № 2 для первого множества: 2\n",
            "Введите число № 3 для первого множества: 3\n",
            "Введите число № 1 для второго множества: 4\n",
            "Введите число № 2 для второго множества: 3\n",
            "Введите число № 3 для второго множества: 2\n",
            "Введите число № 4 для второго множества: 1\n",
            "Введите число № 5 для второго множества: 2\n",
            "True\n"
          ],
          "name": "stdout"
        }
      ]
    },
    {
      "cell_type": "code",
      "metadata": {
        "colab": {
          "base_uri": "https://localhost:8080/"
        },
        "id": "XIFFt5NtYCWL",
        "outputId": "99819816-5087-48d3-cb42-5b1e536c2505"
      },
      "source": [
        "# ФУНКЦИИ\n",
        "def calc(string):\n",
        "    for i in string:\n",
        "        if i == ' ':\n",
        "            string=string.replace(' ', '')\n",
        "    if '+' in string:\n",
        "        var = string.split('+')\n",
        "        print(int(var[0])+int(var[-1]))\n",
        "    elif '-' in string:\n",
        "        var = string.split('-')\n",
        "        print(int(var[0])-int(var[-1]))\n",
        "    elif '/' in string:\n",
        "        var = string.split('/')\n",
        "        print(int(var[0])/int(var[-1]))\n",
        "    elif '*' in string and '**' not in string:\n",
        "        var = string.split('*')\n",
        "        print(int(var[0])*int(var[-1]))\n",
        "    elif '%' in string:\n",
        "        var = string.split('%')\n",
        "        print(int(var[0])/100)\n",
        "    elif '**' in string:\n",
        "        var = string.split('**')\n",
        "        if var[-1] == '':\n",
        "            print(int(var[0])**2)\n",
        "        else:\n",
        "            print(int(var[0])**int(var[-1]))\n",
        "calc('1+ 9')\n",
        "calc('100%')\n",
        "calc('4**')\n",
        "calc('9 ** 3')"
      ],
      "execution_count": null,
      "outputs": [
        {
          "output_type": "stream",
          "text": [
            "10\n",
            "1.0\n",
            "16\n",
            "729\n"
          ],
          "name": "stdout"
        }
      ]
    },
    {
      "cell_type": "code",
      "metadata": {
        "colab": {
          "base_uri": "https://localhost:8080/",
          "height": 231
        },
        "id": "Xa5O0B23cdDo",
        "outputId": "fda9cbc5-c4f9-4c2e-e4f4-db1f7c67337d"
      },
      "source": [
        "def email_gen(list_of_names):\n",
        "    emails = []\n",
        "    for i in list_of_names:\n",
        "        letter = 1\n",
        "        while i[1] + '.' + i[0][0:letter] + '@company.io' in emails:\n",
        "            letter+=1\n",
        "        emails.append(i[1] + '.' + i[0][0:letter] + '@company.io')\n",
        "    return emails\n",
        "strings = []\n",
        "f = open('task_file.txt', 'r')\n",
        "for i in f:\n",
        "    strings.append(i.split(','))\n",
        "f.close()\n",
        "list_of_names = []\n",
        "n = 0\n",
        "for i in strings:\n",
        "    list_of_names.append([])\n",
        "    if i[0] == 'EMAIL' or len(i[3].replace(' ',''))!=7 or ' \\n' in i or len(i[1])<=1 or len(i[2])<=1 or i[3].replace(' ','').isdigit()==False:\n",
        "        list_of_names[n].append('no_email')\n",
        "        list_of_names[n].append('no_email'+str(n))\n",
        "    else:\n",
        "        list_of_names[n].append(i[1].replace(' ',''))\n",
        "        list_of_names[n].append(i[2].replace(' ',''))\n",
        "    n+=1\n",
        "emails = (email_gen(list_of_names))\n",
        "print(strings)\n",
        "n = 0\n",
        "f = open('task_file.txt', 'w')\n",
        "for i in strings:\n",
        "    if 'no_email' not in emails[n]:\n",
        "        i[0]=emails[n]\n",
        "    n+=1\n",
        "    f.write(i[0]+','+i[1]+','+i[2]+','+i[3]+','+i[4])\n",
        "f.close()"
      ],
      "execution_count": null,
      "outputs": [
        {
          "output_type": "error",
          "ename": "FileNotFoundError",
          "evalue": "ignored",
          "traceback": [
            "\u001b[0;31m---------------------------------------------------------------------------\u001b[0m",
            "\u001b[0;31mFileNotFoundError\u001b[0m                         Traceback (most recent call last)",
            "\u001b[0;32m<ipython-input-48-a279d8e9459e>\u001b[0m in \u001b[0;36m<module>\u001b[0;34m()\u001b[0m\n\u001b[1;32m      8\u001b[0m     \u001b[0;32mreturn\u001b[0m \u001b[0memails\u001b[0m\u001b[0;34m\u001b[0m\u001b[0;34m\u001b[0m\u001b[0m\n\u001b[1;32m      9\u001b[0m \u001b[0mstrings\u001b[0m \u001b[0;34m=\u001b[0m \u001b[0;34m[\u001b[0m\u001b[0;34m]\u001b[0m\u001b[0;34m\u001b[0m\u001b[0;34m\u001b[0m\u001b[0m\n\u001b[0;32m---> 10\u001b[0;31m \u001b[0mf\u001b[0m \u001b[0;34m=\u001b[0m \u001b[0mopen\u001b[0m\u001b[0;34m(\u001b[0m\u001b[0;34m'task_file.txt'\u001b[0m\u001b[0;34m,\u001b[0m \u001b[0;34m'r'\u001b[0m\u001b[0;34m)\u001b[0m\u001b[0;34m\u001b[0m\u001b[0;34m\u001b[0m\u001b[0m\n\u001b[0m\u001b[1;32m     11\u001b[0m \u001b[0;32mfor\u001b[0m \u001b[0mi\u001b[0m \u001b[0;32min\u001b[0m \u001b[0mf\u001b[0m\u001b[0;34m:\u001b[0m\u001b[0;34m\u001b[0m\u001b[0;34m\u001b[0m\u001b[0m\n\u001b[1;32m     12\u001b[0m     \u001b[0mstrings\u001b[0m\u001b[0;34m.\u001b[0m\u001b[0mappend\u001b[0m\u001b[0;34m(\u001b[0m\u001b[0mi\u001b[0m\u001b[0;34m.\u001b[0m\u001b[0msplit\u001b[0m\u001b[0;34m(\u001b[0m\u001b[0;34m','\u001b[0m\u001b[0;34m)\u001b[0m\u001b[0;34m)\u001b[0m\u001b[0;34m\u001b[0m\u001b[0;34m\u001b[0m\u001b[0m\n",
            "\u001b[0;31mFileNotFoundError\u001b[0m: [Errno 2] No such file or directory: 'task_file.txt'"
          ]
        }
      ]
    },
    {
      "cell_type": "code",
      "metadata": {
        "colab": {
          "base_uri": "https://localhost:8080/"
        },
        "id": "xDQ3cAhsmFrN",
        "outputId": "1ef5fcd8-58f5-4363-acf9-051aacf6320a"
      },
      "source": [
        "# ПОДКЛЮЧЕНИЕ МОДУЛЕЙ\n",
        "import random\n",
        "def pass_gen(length):\n",
        "    digits = '1234567890'\n",
        "    leters = 'ABCDEFGHIJKLMNOPQRSTUVWXYZ'\n",
        "    leters_2 = 'abcdefghijklmnopqrstuvwxyz'\n",
        "    symbols = '!@#$%^&*()-+'\n",
        "    password = ''\n",
        "    var = [digits, leters, leters_2, symbols]\n",
        "    if length < 12:\n",
        "        return print('Ошибка! Пароль должен иметь не менее 12 символов')\n",
        "    else:\n",
        "        password+=random.choice(digits)\n",
        "        password+=random.choice(leters)\n",
        "        password+=random.choice(leters_2)\n",
        "        password+=random.choice(symbols)\n",
        "        while len(password) < length:\n",
        "            password+=random.choice(var[random.randint(0,3)])\n",
        "        print(password)\n",
        "pass_gen(12)"
      ],
      "execution_count": null,
      "outputs": [
        {
          "output_type": "stream",
          "text": [
            "3Wa)niQW0)MA\n"
          ],
          "name": "stdout"
        }
      ]
    },
    {
      "cell_type": "code",
      "metadata": {
        "colab": {
          "base_uri": "https://localhost:8080/",
          "height": 231
        },
        "id": "NHE1gACsmR13",
        "outputId": "1c8c9fe7-de77-41d3-9fd0-3e4d42a89a76"
      },
      "source": [
        "import random\n",
        "import re\n",
        "def pass_gen(length):\n",
        "    digits = '1234567890'\n",
        "    leters = 'ABCDEFGHIJKLMNOPQRSTUVWXYZ'\n",
        "    leters_2 = 'abcdefghijklmnopqrstuvwxyz'\n",
        "    symbols = '!@#$%^&*()-+'\n",
        "    password = ''\n",
        "    var = [digits, leters, leters_2, symbols]\n",
        "    if length < 12:\n",
        "        return print('Ошибка! Пароль должен иметь не менее 12 символов')\n",
        "    else:\n",
        "        password+=random.choice(digits)\n",
        "        password+=random.choice(leters)\n",
        "        password+=random.choice(leters_2)\n",
        "        password+=random.choice(symbols)\n",
        "        while len(password) < length:\n",
        "            password+=random.choice(var[random.randint(0,3)])\n",
        "        return password\n",
        "def email_gen(list_of_names):\n",
        "    emails = []\n",
        "    for i in list_of_names:\n",
        "        letter = 1\n",
        "        while i[1] + '.' + i[0][0:letter] + '@company.io' in emails:\n",
        "            letter+=1\n",
        "        emails.append(i[1] + '.' + i[0][0:letter] + '@company.io')\n",
        "    return emails\n",
        "\n",
        "##################################\n",
        "############# START ##############\n",
        "##################################\n",
        "\n",
        "strings = []\n",
        "failed = []\n",
        "list_of_names = []\n",
        "n = 0\n",
        "f = open('task_file.txt', 'r')\n",
        "for i in f:\n",
        "    strings.append(i.split(','))\n",
        "f.close()\n",
        "for i in range(len(strings)):\n",
        "    for j in range(len(strings[i])):\n",
        "        strings[i][j]=strings[i][j].replace(' ','')\n",
        "for i in range(len(strings)):\n",
        "    if re.findall(r'^$|\\W|\\d|NAME', strings[i][1]) or re.findall(r'[wrtplkhgfdszxcvbnm][wrtplkhgfdszxcvbnm][wrtplkhgfdszxcvbnm][wrtplkhgfdszxcvbnm]', strings[i][1]) or re.findall(r'^$|\\W|\\d|NAME', strings[i][2]) or re.findall(r'0......|\\D|^$', strings[i][3]) or len(strings[i][3]) != 7 or re.findall(r'\\W+\\n$|\\d|^$', strings[i][4]):\n",
        "        failed.append(i)\n",
        "    else:\n",
        "        list_of_names.append([strings[i][1],strings[i][2]])\n",
        "emails = email_gen(list_of_names)\n",
        "f_1 = open('task_file.txt', 'w')\n",
        "f_2 = open('task_file_1.txt', 'w')\n",
        "f_1.write('EMAIL, PASSWORD, LAST_NAME, TEL, CITY\\n')\n",
        "for i in range(len(strings)):\n",
        "    if i not in failed:\n",
        "        f_1.write(emails[n]+', '+pass_gen(12)+', '+strings[i][1]+', '+strings[i][2]+', '+strings[i][3]+', '+strings[i][4])\n",
        "        n+=1\n",
        "    else:\n",
        "        f_2.write(strings[i][1]+', '+strings[i][2]+', '+strings[i][3]+', '+strings[i][4])\n",
        "f_1.close()\n",
        "f_2.close()"
      ],
      "execution_count": null,
      "outputs": [
        {
          "output_type": "error",
          "ename": "FileNotFoundError",
          "evalue": "ignored",
          "traceback": [
            "\u001b[0;31m---------------------------------------------------------------------------\u001b[0m",
            "\u001b[0;31mFileNotFoundError\u001b[0m                         Traceback (most recent call last)",
            "\u001b[0;32m<ipython-input-50-2e7b3ac71736>\u001b[0m in \u001b[0;36m<module>\u001b[0;34m()\u001b[0m\n\u001b[1;32m     35\u001b[0m \u001b[0mlist_of_names\u001b[0m \u001b[0;34m=\u001b[0m \u001b[0;34m[\u001b[0m\u001b[0;34m]\u001b[0m\u001b[0;34m\u001b[0m\u001b[0;34m\u001b[0m\u001b[0m\n\u001b[1;32m     36\u001b[0m \u001b[0mn\u001b[0m \u001b[0;34m=\u001b[0m \u001b[0;36m0\u001b[0m\u001b[0;34m\u001b[0m\u001b[0;34m\u001b[0m\u001b[0m\n\u001b[0;32m---> 37\u001b[0;31m \u001b[0mf\u001b[0m \u001b[0;34m=\u001b[0m \u001b[0mopen\u001b[0m\u001b[0;34m(\u001b[0m\u001b[0;34m'task_file.txt'\u001b[0m\u001b[0;34m,\u001b[0m \u001b[0;34m'r'\u001b[0m\u001b[0;34m)\u001b[0m\u001b[0;34m\u001b[0m\u001b[0;34m\u001b[0m\u001b[0m\n\u001b[0m\u001b[1;32m     38\u001b[0m \u001b[0;32mfor\u001b[0m \u001b[0mi\u001b[0m \u001b[0;32min\u001b[0m \u001b[0mf\u001b[0m\u001b[0;34m:\u001b[0m\u001b[0;34m\u001b[0m\u001b[0;34m\u001b[0m\u001b[0m\n\u001b[1;32m     39\u001b[0m     \u001b[0mstrings\u001b[0m\u001b[0;34m.\u001b[0m\u001b[0mappend\u001b[0m\u001b[0;34m(\u001b[0m\u001b[0mi\u001b[0m\u001b[0;34m.\u001b[0m\u001b[0msplit\u001b[0m\u001b[0;34m(\u001b[0m\u001b[0;34m','\u001b[0m\u001b[0;34m)\u001b[0m\u001b[0;34m)\u001b[0m\u001b[0;34m\u001b[0m\u001b[0;34m\u001b[0m\u001b[0m\n",
            "\u001b[0;31mFileNotFoundError\u001b[0m: [Errno 2] No such file or directory: 'task_file.txt'"
          ]
        }
      ]
    },
    {
      "cell_type": "code",
      "metadata": {
        "colab": {
          "base_uri": "https://localhost:8080/"
        },
        "id": "9m93LJG8p_cx",
        "outputId": "d382d298-ed97-4f6d-ea2f-6dd26bc9228f"
      },
      "source": [
        "print(1|3|4)"
      ],
      "execution_count": null,
      "outputs": [
        {
          "output_type": "stream",
          "text": [
            "7\n"
          ],
          "name": "stdout"
        }
      ]
    },
    {
      "cell_type": "code",
      "metadata": {
        "colab": {
          "base_uri": "https://localhost:8080/",
          "height": 35
        },
        "id": "XeehklD0qQnR",
        "outputId": "2ca80d83-7866-4df7-9984-bc0d8c03e474"
      },
      "source": [
        "'Python'[:]"
      ],
      "execution_count": null,
      "outputs": [
        {
          "output_type": "execute_result",
          "data": {
            "application/vnd.google.colaboratory.intrinsic+json": {
              "type": "string"
            },
            "text/plain": [
              "'Python'"
            ]
          },
          "metadata": {
            "tags": []
          },
          "execution_count": 63
        }
      ]
    },
    {
      "cell_type": "code",
      "metadata": {
        "colab": {
          "base_uri": "https://localhost:8080/"
        },
        "id": "is_S6tUztXkG",
        "outputId": "5ab0fdbc-35e6-4d16-8c2f-03fda83ef6b4"
      },
      "source": [
        "num=[1,2,3,4,5,6,7,8,9,0]\n",
        "print (num[::4])"
      ],
      "execution_count": null,
      "outputs": [
        {
          "output_type": "stream",
          "text": [
            "[1, 5, 9]\n"
          ],
          "name": "stdout"
        }
      ]
    },
    {
      "cell_type": "code",
      "metadata": {
        "colab": {
          "base_uri": "https://localhost:8080/"
        },
        "id": "fBYYgBzotsNu",
        "outputId": "b45067e2-bc68-4806-e345-def0472f2efe"
      },
      "source": [
        "var=10\n",
        "print(Var)"
      ],
      "execution_count": null,
      "outputs": [
        {
          "output_type": "stream",
          "text": [
            "10\n"
          ],
          "name": "stdout"
        }
      ]
    },
    {
      "cell_type": "code",
      "metadata": {
        "colab": {
          "base_uri": "https://localhost:8080/",
          "height": 129
        },
        "id": "NDKW_C8duEtm",
        "outputId": "b9a4b44d-85c1-4fe6-f437-8a9d3672e031"
      },
      "source": [
        "n=5\n",
        "#while n>0:\n",
        "    print(n)"
      ],
      "execution_count": null,
      "outputs": [
        {
          "output_type": "error",
          "ename": "IndentationError",
          "evalue": "ignored",
          "traceback": [
            "\u001b[0;36m  File \u001b[0;32m\"<ipython-input-61-f8767e5c34de>\"\u001b[0;36m, line \u001b[0;32m3\u001b[0m\n\u001b[0;31m    print(n)\u001b[0m\n\u001b[0m    ^\u001b[0m\n\u001b[0;31mIndentationError\u001b[0m\u001b[0;31m:\u001b[0m unexpected indent\n"
          ]
        }
      ]
    },
    {
      "cell_type": "code",
      "metadata": {
        "colab": {
          "base_uri": "https://localhost:8080/"
        },
        "id": "jup7htwKvO-J",
        "outputId": "b56236b8-8621-43d9-c98c-59c41cbbdc48"
      },
      "source": [
        "print(1^4)"
      ],
      "execution_count": null,
      "outputs": [
        {
          "output_type": "stream",
          "text": [
            "5\n"
          ],
          "name": "stdout"
        }
      ]
    }
  ]
}